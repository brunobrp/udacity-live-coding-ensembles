{
 "cells": [
  {
   "cell_type": "code",
   "execution_count": null,
   "metadata": {},
   "outputs": [],
   "source": [
    "# libs basicas data science\n",
    "from sklearn import datasets\n",
    "import numpy as np\n",
    "import pandas as pd\n",
    "from scipy import stats\n",
    "import math\n",
    "\n",
    "#libs visualizacao\n",
    "import seaborn as sns\n",
    "import matplotlib.pyplot as plt\n",
    "import matplotlib.gridspec as gridspec\n",
    "from IPython.display import Image\n",
    "from IPython.core.display import HTML\n",
    "from mlxtend.plotting import plot_decision_regions\n",
    "\n",
    "#sklean model selection http://scikit-learn.org/\n",
    "from sklearn.model_selection import cross_val_score, train_test_split\n",
    "\n",
    "#sklearn classifiers\n",
    "from sklearn.linear_model import LogisticRegression\n",
    "from sklearn.tree import DecisionTreeClassifier\n",
    "from sklearn.neighbors import KNeighborsClassifier\n",
    "from sklearn.ensemble import RandomForestClassifier\n",
    "from sklearn.discriminant_analysis import LinearDiscriminantAnalysis\n",
    "from sklearn.naive_bayes import GaussianNB\n",
    "from sklearn.svm import SVC\n",
    "from sklearn.dummy import DummyClassifier\n",
    "from sklearn.ensemble import BaggingClassifier\n",
    "from sklearn.ensemble import AdaBoostClassifier\n",
    "from sklearn.ensemble import VotingClassifier\n",
    "\n",
    "# mlxtend classifiers https://rasbt.github.io/mlxtend/\n",
    "from mlxtend.classifier import StackingClassifier\n",
    "from mlxtend.classifier import StackingCVClassifier"
   ]
  },
  {
   "cell_type": "code",
   "execution_count": null,
   "metadata": {},
   "outputs": [],
   "source": [
    "%matplotlib inline\n",
    "plt.style.use('ggplot')\n",
    "plt.rcParams['figure.figsize'] = (15, 10)\n",
    "sns.set(style=\"ticks\")"
   ]
  },
  {
   "cell_type": "markdown",
   "metadata": {},
   "source": [
    "# Iris Dataset"
   ]
  },
  {
   "cell_type": "code",
   "execution_count": null,
   "metadata": {},
   "outputs": [],
   "source": [
    "iris = datasets.load_iris()"
   ]
  },
  {
   "cell_type": "code",
   "execution_count": null,
   "metadata": {},
   "outputs": [],
   "source": [
    "iris_df = pd.DataFrame(data= np.c_[iris['data'], iris.target_names[iris.target]], \n",
    "                       columns= iris['feature_names'] + ['class'])\n",
    "for col in iris['feature_names']:\n",
    "    iris_df[col] = pd.to_numeric(iris_df[col])"
   ]
  },
  {
   "cell_type": "code",
   "execution_count": null,
   "metadata": {},
   "outputs": [],
   "source": [
    "iris_df.shape"
   ]
  },
  {
   "cell_type": "code",
   "execution_count": null,
   "metadata": {},
   "outputs": [],
   "source": [
    "iris_df.describe()"
   ]
  },
  {
   "cell_type": "code",
   "execution_count": null,
   "metadata": {
    "scrolled": true
   },
   "outputs": [],
   "source": [
    "iris_df.groupby('class').size()"
   ]
  },
  {
   "cell_type": "code",
   "execution_count": null,
   "metadata": {},
   "outputs": [],
   "source": [
    "sns.pairplot(iris_df, hue=\"class\", diag_kind=\"kde\")\n",
    "plt.show()"
   ]
  },
  {
   "cell_type": "markdown",
   "metadata": {},
   "source": [
    "# Métodos utilitários"
   ]
  },
  {
   "cell_type": "code",
   "execution_count": null,
   "metadata": {},
   "outputs": [],
   "source": [
    "def get_predictions(models, X, y):\n",
    "    validation_size = 0.20\n",
    "    seed = 13\n",
    "    X_train, X_validation, y_train, y_validation = \\\n",
    "        train_test_split(X, y, test_size=validation_size, random_state=seed)    \n",
    "    predictions = [y_validation]\n",
    "    labels = []\n",
    "    for name in models.keys():\n",
    "        model = models[name]\n",
    "        model.fit(X_train, y_train)\n",
    "        predictions.append(model.predict(X_validation))\n",
    "        labels.append(name)\n",
    "    predictions_df = pd.DataFrame(data=np.transpose(predictions), columns=(['Y'] + list(models.keys()))) \n",
    "    return predictions_df"
   ]
  },
  {
   "cell_type": "code",
   "execution_count": null,
   "metadata": {},
   "outputs": [],
   "source": [
    "def models_correlation(predictions_df):\n",
    "    corr = predictions_df.iloc[:, 1:].corr()\n",
    "    mask = np.zeros_like(corr)\n",
    "    mask[np.triu_indices_from(mask)] = True\n",
    "    sns.heatmap(corr, annot=True, mask=mask, cmap=\"YlGnBu\")\n",
    "    plt.show()"
   ]
  },
  {
   "cell_type": "code",
   "execution_count": null,
   "metadata": {},
   "outputs": [],
   "source": [
    "def highlight_error(s):\n",
    "    is_error = s != s.iloc[0]\n",
    "    return ['color: red' if v else 'color: black' for v in is_error]"
   ]
  },
  {
   "cell_type": "code",
   "execution_count": null,
   "metadata": {},
   "outputs": [],
   "source": [
    "def print_predictions(models, X, y):\n",
    "    predictions_df = get_predictions(models, X, y)\n",
    "    return predictions_df.style.apply(highlight_error, axis=1)"
   ]
  },
  {
   "cell_type": "code",
   "execution_count": null,
   "metadata": {},
   "outputs": [],
   "source": [
    "def train_and_report(models, X, y):\n",
    "    results = []\n",
    "    for name in models.keys():\n",
    "        model = models[name]\n",
    "        scores = cross_val_score(model, X, y, cv=10, scoring='accuracy')\n",
    "        print(\"Accuracy: %.3f (+/- %.3f) [%s]\" %(scores.mean(), scores.std(), name))"
   ]
  },
  {
   "cell_type": "code",
   "execution_count": null,
   "metadata": {},
   "outputs": [],
   "source": [
    "def plot_decision_boundaries(models, X, y, cols=3):\n",
    "        \n",
    "    fig = plt.figure()\n",
    "    rows = math.ceil(len(models) / (cols * 1.0))\n",
    "    gs = gridspec.GridSpec(rows, cols)\n",
    "    grid = []\n",
    "    for r in range(rows):\n",
    "        for c in range(cols):\n",
    "            grid.append((r,c))\n",
    "\n",
    "    clf_list = models.values()\n",
    "    labels = models.keys()\n",
    "    \n",
    "    for clf, label, grd in zip(clf_list, labels, grid):\n",
    "        \n",
    "        clf.fit(X, y)\n",
    "        ax = plt.subplot(gs[grd[0], grd[1]])\n",
    "        fig = plot_decision_regions(X=X, y=y, clf=clf, legend=2)\n",
    "        plt.title(label)\n",
    "\n",
    "    plt.show()"
   ]
  },
  {
   "cell_type": "markdown",
   "metadata": {},
   "source": [
    "# Treinamento dos modelos isoladamente"
   ]
  },
  {
   "cell_type": "code",
   "execution_count": null,
   "metadata": {},
   "outputs": [],
   "source": [
    "X, y = iris.data, iris.target"
   ]
  },
  {
   "cell_type": "code",
   "execution_count": null,
   "metadata": {},
   "outputs": [],
   "source": [
    "models = {}\n",
    "models['LR'] = LogisticRegression()\n",
    "models['LDA'] = LinearDiscriminantAnalysis()\n",
    "models['KNN'] = KNeighborsClassifier()\n",
    "models['CART'] = DecisionTreeClassifier(random_state=13)\n",
    "models['NB'] = GaussianNB()\n",
    "models['SVC'] = SVC(probability=True)"
   ]
  },
  {
   "cell_type": "markdown",
   "metadata": {},
   "source": [
    "# Votação"
   ]
  },
  {
   "cell_type": "markdown",
   "metadata": {},
   "source": [
    "## Maioria"
   ]
  },
  {
   "cell_type": "code",
   "execution_count": null,
   "metadata": {},
   "outputs": [],
   "source": [
    "voting_models_names = models.keys()\n",
    "voting_models = {name: models[name] for name in voting_models_names}\n",
    "voting_estimators = [(name, models[name]) for name in voting_models_names]"
   ]
  },
  {
   "cell_type": "markdown",
   "metadata": {},
   "source": [
    "## Ponderado"
   ]
  },
  {
   "cell_type": "markdown",
   "metadata": {},
   "source": [
    "## Correlação entre os modelos"
   ]
  },
  {
   "cell_type": "markdown",
   "metadata": {},
   "source": [
    "# Stacking"
   ]
  },
  {
   "cell_type": "code",
   "execution_count": null,
   "metadata": {},
   "outputs": [],
   "source": [
    "Image(url= \"https://rasbt.github.io/mlxtend/user_guide/classifier/StackingClassifier_files/stackingclassification_overview.png\")"
   ]
  },
  {
   "cell_type": "code",
   "execution_count": null,
   "metadata": {},
   "outputs": [],
   "source": [
    "stacking_models_names = models.keys()\n",
    "stacking_models = {name: models[name] for name in stacking_models_names}\n",
    "stacking_estimators = [models[name] for name in stacking_models_names]"
   ]
  }
 ],
 "metadata": {
  "celltoolbar": "Raw Cell Format",
  "kernelspec": {
   "display_name": "Python 3",
   "language": "python",
   "name": "python3"
  },
  "language_info": {
   "codemirror_mode": {
    "name": "ipython",
    "version": 3
   },
   "file_extension": ".py",
   "mimetype": "text/x-python",
   "name": "python",
   "nbconvert_exporter": "python",
   "pygments_lexer": "ipython3",
   "version": "3.6.3"
  }
 },
 "nbformat": 4,
 "nbformat_minor": 2
}
